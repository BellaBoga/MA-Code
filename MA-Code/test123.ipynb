{
 "cells": [
  {
   "cell_type": "code",
   "execution_count": 1,
   "metadata": {},
   "outputs": [],
   "source": [
    "import pandas as pd\n",
    "import csv\n",
    "import re\n",
    "import time\n",
    "df = pd.read_csv('/home/bella/Dropbox/Master-Thesis/MA_Thesis_Program/iranian_levenshtein.csv',header=0)"
   ]
  },
  {
   "cell_type": "code",
   "execution_count": null,
   "metadata": {},
   "outputs": [],
   "source": [
    "df"
   ]
  },
  {
   "cell_type": "code",
   "execution_count": 13,
   "metadata": {},
   "outputs": [],
   "source": [
    "#Iranian Iso codes\n",
    "langs3 = [\"av1\", \"av2\", \"pb1\",\"pb2\" ,\"bql\",\"bgp\",\"bgn\",\"ps1\", \"pb3\", \"pb4\", \"wb1\", \"pt1\" ,\"wb2\" ,\"pb5\" ,\"pb6\" , \"os1\",\n",
    "\"pb7\", \"prs\", \"gzi\", \"glk\", \"hac\", \"pb8\", \"os2\", \"wb3\", \"pb9\" ,\"p10\", \"jdt\", \"pt2\", \"ps2\", \"kiu\" ,\"zum\" ,\"ckb\", \"kmr\", \"ps3\", \"lrl\" \n",
    ",\"lsa\", \"luz\", \"p11\", \"p12\", \"p13\", \"kfm\", \"p14\", \"ps4\", \"p15\", \"mnj\" ,\"ntz\", \n",
    "\"p16\", \"p17\", \"p18\", \"oru\", \"prc\", \"p19\", \"pt3\" ,\"pes\", \"p20\" ,\"pt4\", \"pt5\", \"srz\" , \"p21\", \"sgh\", \"siy\", \"sqo\", \"bcc\" ,\"sdh\" ,\"fay\" ,\"p22\", \"tgk\" ,\"tly\" ,\"p23\" ,\"p24\",\n",
    "\"vaf\", \"ps5\" ,\"wne\" ,\"yai\" ,\"wb5\", \"yah\" ,\"ydg\", \"p25\", \"diq\"]\n",
    "\n",
    "langs4 = [\"av1\", \"av2\", \"pb1\",\"pb2\" ,\"bql\",\"bgp\",\"bgn\",\"ps1\", \"pb3\", \"pb4\", \"wb1\", \"pt1\" ,\"wb2\" ,\"pb5\" ,\"pb6\" , \"os1\",\n",
    "\"pb7\", \"prs\", \"gzi\", \"glk\", \"hac\", \"pb8\", \"os2\", \"wb3\", \"pb9\" ,\"p10\", \"jdt\", \"pt2\", \"ps2\", \"kiu\" ,\"zum\" ,\"ckb\", \"kmr\", \"ps3\", \"lrl\" \n",
    ",\"lsa\", \"luz\", \"p11\", \"p12\", \"p13\", \"kfm\", \"p14\", \"ps4\", \"p15\", \"mnj\" ,\"ntz\", \n",
    "\"p16\", \"p17\", \"p18\", \"oru\", \"prc\", \"p19\", \"pt3\" ,\"pes\", \"p20\" ,\n",
    "\"pt4\", \"pt5\", \"srz\" , \"p21\", \"sgh\", \"siy\", \"sqo\", \"bcc\" ,\"sdh\" ,\"fay\" ,\"p22\", \"tgk\" ,\"tly\" ,\"p23\" ,\"p24\",\n",
    "\"vaf\", \"ps5\" ,\"wne\" ,\"yai\" ,\"wb5\", \"yah\" ,\"ydg\", \"p25\", \"diq\"]"
   ]
  },
  {
   "cell_type": "code",
   "execution_count": null,
   "metadata": {},
   "outputs": [],
   "source": [
    "start = time.time()\n",
    "for i in range(len(langs3)):\n",
    "    for j in range(len(langs4)):\n",
    "            new_dataframe=df[df[\"L1\"].str.match(langs3[i]) & df[\"L2\"].str.match(langs4[j])]\n",
    "            #| df[['L2'].str.match(langs4[i]) & df['L1'].str.match(langs3[j])]\n",
    "            mean_value = new_dataframe[[\"New_Score\"]].mean()\n",
    "            #new_dataframe.to_csv(\"/home/bella/Dropbox/Master-Thesis/MA_Thesis_Program/Filtered_Data_Romance/Mean_Values_Off_Diagonal/Test/\"+langs1[i]+\"_\"+langs1[j]+\".csv\")\n",
    "            mean_value.to_csv(\"/home/bella/Dropbox/Master-Thesis/MA_Thesis_Program/Iranian/Mean_Values_Iranian/\"+langs3[i]+\"_\"+langs4[j]+\".csv\")\n",
    "            print(langs3[i],langs4[j])\n",
    "end = time.time()\n",
    "print(end - start)"
   ]
  }
 ],
 "metadata": {
  "kernelspec": {
   "display_name": "Python 3",
   "language": "python",
   "name": "python3"
  },
  "language_info": {
   "codemirror_mode": {
    "name": "ipython",
    "version": 3
   },
   "file_extension": ".py",
   "mimetype": "text/x-python",
   "name": "python",
   "nbconvert_exporter": "python",
   "pygments_lexer": "ipython3",
   "version": "3.6.5"
  }
 },
 "nbformat": 4,
 "nbformat_minor": 2
}
