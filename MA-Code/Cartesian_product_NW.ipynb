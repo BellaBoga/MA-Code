{
 "cells": [
  {
   "cell_type": "code",
   "execution_count": 7,
   "metadata": {},
   "outputs": [],
   "source": [
    "import csv\n",
    "from lingpy import *\n",
    "import itertools\n",
    "import os\n",
    "import pickle as pk\n",
    "from lingpy.settings import rcParams\n",
    "from itertools import groupby\n",
    "#from asjp import ipa2asjp, asjp2ipa, tokenise\n",
    "import fileinput\n",
    "import itertools\n",
    "import pandas as pd\n",
    "import numpy as np\n",
    "from scipy.spatial.distance import pdist\n",
    "from itertools import product\n",
    "import time"
   ]
  },
  {
   "cell_type": "code",
   "execution_count": null,
   "metadata": {},
   "outputs": [],
   "source": [
    "#creates list of list where one column is one list\n",
    "dataset = []\n",
    "with open('ASJP_iranian.csv') as csvfile:\n",
    "    rows = csv.reader(csvfile)\n",
    "    data = list(zip(*rows))\n",
    "    dataset = [list(a) for a in data]"
   ]
  },
  {
   "cell_type": "code",
   "execution_count": null,
   "metadata": {},
   "outputs": [],
   "source": [
    "dataset = [\"NaN\" if x == ' ' else x for x in dataset]\n",
    "dataset"
   ]
  },
  {
   "cell_type": "code",
   "execution_count": null,
   "metadata": {},
   "outputs": [],
   "source": [
    "dataset"
   ]
  },
  {
   "cell_type": "code",
   "execution_count": 24,
   "metadata": {},
   "outputs": [],
   "source": [
    "for i in dataset:\n",
    "    if i == \" \":\n",
    "        dataset[i]= i.replace(\"NaN\")"
   ]
  },
  {
   "cell_type": "code",
   "execution_count": 3,
   "metadata": {},
   "outputs": [],
   "source": [
    "scorer = {}\n",
    "listoflist = []\n",
    "with open(\"pmiScores.csv\", \"r\") as infile:\n",
    "    for line in infile:\n",
    "        listoflist.append(line.rstrip(\"\\n\").split(','))\n",
    "        \n",
    "\n",
    "for i in range(1,len(listoflist)):\n",
    "    for j in range(1, len(listoflist[0])):\n",
    "        scorer[(listoflist[0][i], listoflist[j][0])] = float(listoflist[i][j])\n",
    "        #Scorer is done\n",
    "#scorer"
   ]
  },
  {
   "cell_type": "code",
   "execution_count": 4,
   "metadata": {},
   "outputs": [],
   "source": [
    "seqA = []\n",
    "seqB = []\n",
    "final_scores = []\n",
    "for i in range(len(dataset)):\n",
    "    for j in range(len(dataset)):\n",
    "        for a, b in itertools.product(dataset[i],dataset[j],repeat=1):\n",
    "            #print(dataset[j])\n",
    "            seqA.append(a)\n",
    "            seqB.append(b)\n",
    "            #almA, almB,sim = nw_align(seqA[j][4:],seqB[j][4:],scorer=scorer)\n",
    "            #print(seqA[j],seqB[j],final_scores[j])\n",
    "            '''\n",
    "        for i in range(len(seqA)):\n",
    "            almA, almB,sim = nw_align(seqA[i][4:],seqB[i][4:],scorer=scorer)\n",
    "            final_scores.append(sim)\n",
    "            #print(i, seqA[i], seqB[i],final_scores[i])\n",
    "\n",
    "            print(i,seqA[i],seqB[i],final_scores[i], file=open(\"wtf.csv\", \"a\")) \n",
    "            '''"
   ]
  },
  {
   "cell_type": "code",
   "execution_count": 5,
   "metadata": {},
   "outputs": [],
   "source": [
    "final_scores = []\n",
    "for i in range(len(seqA)):\n",
    "    sim = edit_dist(seqA[i][4:],seqB[i][4:])\n",
    "    final_scores.append(sim)\n",
    "        #print(i, seqA[i], seqB[i],final_scores[i])\n",
    "\n",
    "    print(i,seqA[i],seqB[i],final_scores[i],file=open(\"iranian_lev_off_diagonal.csv\", \"a\")) "
   ]
  },
  {
   "cell_type": "code",
   "execution_count": 31,
   "metadata": {},
   "outputs": [
    {
     "name": "stdout",
     "output_type": "stream",
     "text": [
      "1361.7259228229523\n"
     ]
    }
   ],
   "source": [
    "start = time.time()\n",
    "final_scores = []\n",
    "for i in range(len(seqA)):\n",
    "    if seqA[i] == \"\" or seqB[i]  == \"\":\n",
    "        final_scores.append(\"\")\n",
    "        print(i, seqA[i], seqB[i],final_scores[i],file=open(\"schrott.csv\", \"a\"))\n",
    "\n",
    "        \n",
    "    else:\n",
    "        sim = edit_dist(seqA[i][4:],seqB[i][4:])\n",
    "        final_scores.append(sim)\n",
    "        #print(i, seqA[i], seqB[i],final_scores[i])\n",
    "\n",
    "        print(i,seqA[i],seqB[i],final_scores[i],file=open(\"iranian_lev_off_diagonal.csv\", \"a\"))\n",
    "        \n",
    "end = time.time()\n",
    "print(end - start)"
   ]
  }
 ],
 "metadata": {
  "kernelspec": {
   "display_name": "Python 3",
   "language": "python",
   "name": "python3"
  },
  "language_info": {
   "codemirror_mode": {
    "name": "ipython",
    "version": 3
   },
   "file_extension": ".py",
   "mimetype": "text/x-python",
   "name": "python",
   "nbconvert_exporter": "python",
   "pygments_lexer": "ipython3",
   "version": "3.6.5"
  }
 },
 "nbformat": 4,
 "nbformat_minor": 2
}
