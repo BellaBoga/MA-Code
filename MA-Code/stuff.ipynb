{
 "cells": [
  {
   "cell_type": "code",
   "execution_count": null,
   "metadata": {},
   "outputs": [],
   "source": [
    "import glob\n",
    "import rpy2.robjects as r\n",
    "from rpy2.robjects.packages import importr\n",
    "\n",
    "from numpy import *\n",
    "#from helper_functions import writePhy\n",
    "\n",
    "#import the basis of R\n",
    "base = importr(\"base\")\n",
    "utils = importr(\"utils\")\n",
    "stats = importr(\"stats\")\n",
    "#imports ape, required for phangorn\n",
    "ape = importr(\"ape\")\n",
    "#imports phangorn\n",
    "phangorn = importr(\"phangorn\")"
   ]
  },
  {
   "cell_type": "code",
   "execution_count": 12,
   "metadata": {},
   "outputs": [],
   "source": [
    "def reconstruct_trees_phy(f, out):\n",
    "    '''\n",
    "    Reconstructs Neighbor Joining trees for each concept\n",
    "    The trees are reconstructed using R and the packages ape and phangorn\n",
    "    '''\n",
    "    t = utils.read_table(f, skip=1, row_names=1)\n",
    "    mx = base.as_matrix(t)\n",
    "    dm = stats.as_dist(mx)"
   ]
  },
  {
   "cell_type": "code",
   "execution_count": null,
   "metadata": {},
   "outputs": [],
   "source": [
    "#nj trees\n",
    "treeNJ = ape.nj(dm)\n",
    "ape.write_tree(treeNJ, file=\"output/multipleData/phylipTrees/nj/\"+out+\"+njTree.nwk\")\n",
    "#fastme trees\n",
    "treeFastme = ape.fastme_bal(dm, nni=True, spr=True, tbr=False)\n",
    "ape.write_tree(treeFastme, file=\"output/multipleData/phylipTrees/fastme/\"+out+\"+fastmeTree.nwk\")"
   ]
  },
  {
   "cell_type": "code",
   "execution_count": 3,
   "metadata": {},
   "outputs": [],
   "source": [
    "#add header to file\n",
    "import csv\n",
    "toAdd = [\"L1\", \"L2\", \"Score1\" ,\"Score\"]\n",
    "with open(\"lenght_corrected_nw_romance_off_diagonal.csv\", \"r\") as infile:\n",
    "    reader = list(csv.reader(infile))\n",
    "    reader.insert(0, toAdd)\n",
    "\n",
    "with open(\"lenght_corrected_nw_romance_off_diagonal.csv\", \"w\") as outfile:\n",
    "    writer = csv.writer(outfile)\n",
    "    for line in reader:\n",
    "        writer.writerow(line)"
   ]
  },
  {
   "cell_type": "code",
   "execution_count": null,
   "metadata": {},
   "outputs": [],
   "source": []
  }
 ],
 "metadata": {
  "kernelspec": {
   "display_name": "Python 3",
   "language": "python",
   "name": "python3"
  },
  "language_info": {
   "codemirror_mode": {
    "name": "ipython",
    "version": 3
   },
   "file_extension": ".py",
   "mimetype": "text/x-python",
   "name": "python",
   "nbconvert_exporter": "python",
   "pygments_lexer": "ipython3",
   "version": "3.6.5"
  }
 },
 "nbformat": 4,
 "nbformat_minor": 2
}
