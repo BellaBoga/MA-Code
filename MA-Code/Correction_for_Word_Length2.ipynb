{
 "cells": [
  {
   "cell_type": "code",
   "execution_count": 1,
   "metadata": {},
   "outputs": [],
   "source": [
    "import pandas as pd\n",
    "import csv\n",
    "import re   \n",
    "import time\n",
    "import itertools"
   ]
  },
  {
   "cell_type": "code",
   "execution_count": null,
   "metadata": {},
   "outputs": [],
   "source": [
    "df = pd.read_csv('/home/bella/Dropbox/Master-Thesis/MA_Thesis_Program/iranian_nw_off_diag.csv',header=0)\n",
    "df"
   ]
  },
  {
   "cell_type": "code",
   "execution_count": null,
   "metadata": {},
   "outputs": [],
   "source": [
    "df = pd.DataFrame(df, columns = ['L1', 'L2', 'Score'])\n",
    "df"
   ]
  },
  {
   "cell_type": "code",
   "execution_count": 4,
   "metadata": {},
   "outputs": [],
   "source": [
    "for i,row in df.iterrows():\n",
    "    if len(row[\"L1\"][4:])>len(row[\"L2\"][4:]):\n",
    "        print(\"L1,\",row[\"Score\"]/len(row[\"L1\"][4:]),file=open(\"iran_nw_off_diag_corrected.csv\",\"a\"))\n",
    "    else:\n",
    "        print(\"L2,\",row[\"Score\"]/len(row[\"L2\"][4:]),file=open(\"iran_nw_off_diag_corrected.csv\",\"a\"))"
   ]
  }
 ],
 "metadata": {
  "kernelspec": {
   "display_name": "Python 3",
   "language": "python",
   "name": "python3"
  },
  "language_info": {
   "codemirror_mode": {
    "name": "ipython",
    "version": 3
   },
   "file_extension": ".py",
   "mimetype": "text/x-python",
   "name": "python",
   "nbconvert_exporter": "python",
   "pygments_lexer": "ipython3",
   "version": "3.6.5"
  }
 },
 "nbformat": 4,
 "nbformat_minor": 2
}
