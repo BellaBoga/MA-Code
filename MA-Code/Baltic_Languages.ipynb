{
 "cells": [
  {
   "cell_type": "code",
   "execution_count": null,
   "metadata": {},
   "outputs": [],
   "source": [
    "import csv\n",
    "from lingpy import *\n",
    "import itertools\n",
    "import os\n",
    "import pickle as pk\n",
    "from lingpy.settings import rcParams\n",
    "from itertools import groupby\n",
    "from asjp import ipa2asjp, asjp2ipa, tokenise"
   ]
  },
  {
   "cell_type": "code",
   "execution_count": null,
   "metadata": {},
   "outputs": [],
   "source": [
    "with open('baltic_languages.csv', 'r') as csvfile:\n",
    "    data_set = list(csv.reader(csvfile, delimiter=',', quotechar='|'))\n",
    "    print(\"This is it: \", data_set[0])\n",
    "    print(\"This is it: \", data_set[5])"
   ]
  },
  {
   "cell_type": "code",
   "execution_count": null,
   "metadata": {},
   "outputs": [],
   "source": [
    "seqA_tmp = []\n",
    "seqB_tmp = []\n",
    "for i in range(len(data_set)):\n",
    "    for a,b in itertools.combinations(data_set[i], 2):\n",
    "        seqA_tmp.append(a)\n",
    "        seqB_tmp.append(b)\n",
    "        #print('compare', a, 'and', b)\n",
    "\n",
    "seqA = []\n",
    "for i in seqA_tmp:\n",
    "    j = i.replace(' ','')\n",
    "    seqA.append(j)\n",
    "\n",
    "seqB = []\n",
    "for i in seqB_tmp:\n",
    "    j = i.replace(' ','')\n",
    "    seqB.append(j)"
   ]
  },
  {
   "cell_type": "code",
   "execution_count": null,
   "metadata": {},
   "outputs": [],
   "source": [
    "scorer = {}\n",
    "listoflist = []\n",
    "with open(\"pmiScores.csv\", \"r\") as infile:\n",
    "    for line in infile:\n",
    "        listoflist.append(line.rstrip(\"\\n\").split(','))\n",
    "        \n",
    "\n",
    "for i in range(1,len(listoflist)):\n",
    "    for j in range(1, len(listoflist[0])):\n",
    "        scorer[(listoflist[0][i], listoflist[j][0])] = float(listoflist[i][j])\n",
    "        #Scorer is done\n",
    "scorer"
   ]
  },
  {
   "cell_type": "code",
   "execution_count": null,
   "metadata": {},
   "outputs": [],
   "source": [
    "final_scores = []\n",
    "for i in range(len(seqA)):\n",
    "    if seqA[i] == \"\" or seqB[i] == \"\":\n",
    "        final_scores.append(float('nan'))\n",
    "    else:\n",
    "        print(i, seqA[i], seqB[i])\n",
    "        almA, almB, sim = nw_align(seqA[i], seqB[i],scorer=scorer)\n",
    "        final_scores.append(sim)"
   ]
  },
  {
   "cell_type": "code",
   "execution_count": null,
   "metadata": {},
   "outputs": [],
   "source": [
    "for key in scorer:\n",
    "  print(key)"
   ]
  },
  {
   "cell_type": "code",
   "execution_count": null,
   "metadata": {},
   "outputs": [],
   "source": [
    "\"This is sim:\", final_scores"
   ]
  },
  {
   "cell_type": "code",
   "execution_count": null,
   "metadata": {},
   "outputs": [],
   "source": [
    "almA, almB, sim = nw_align(\"miza\", \"miza\",scorer=scorer)\n",
    "sim"
   ]
  },
  {
   "cell_type": "code",
   "execution_count": null,
   "metadata": {},
   "outputs": [],
   "source": [
    "\"This is almB:\" , almB\n",
    "\"This is almA:\" , almA\n",
    "almA, almB, sim = nw_align(seqA[10], seqB[10],scorer=scorer)\n",
    "#1.remove white spaces for the keys to work properly ###DONE\n",
    "#1.seqA, seqB first item == name of Language; I don't want that. ###DONE\n",
    "#2.extend to do it for all language pairs ###itertools.combinations\n",
    "#3.getting the scores for elementwise comparison for every word with every word\n",
    "#3.get the distribution of the scores of all the words of lang 1 and lang2 \n",
    "\n",
    "#4.get rid of z\\n ###DONE\n",
    "#contradictory: why does the alignment works the first time til some point it stops but it doesn't work the second time I run it?"
   ]
  },
  {
   "cell_type": "code",
   "execution_count": null,
   "metadata": {},
   "outputs": [],
   "source": [
    "scorer[\"z\",\"m\"]"
   ]
  },
  {
   "cell_type": "code",
   "execution_count": null,
   "metadata": {},
   "outputs": [],
   "source": [
    "scorer[\"z\\n\",\"!\"]"
   ]
  }
 ],
 "metadata": {
  "kernelspec": {
   "display_name": "Python 3",
   "language": "python",
   "name": "python3"
  },
  "language_info": {
   "codemirror_mode": {
    "name": "ipython",
    "version": 3
   },
   "file_extension": ".py",
   "mimetype": "text/x-python",
   "name": "python",
   "nbconvert_exporter": "python",
   "pygments_lexer": "ipython3",
   "version": "3.6.5"
  }
 },
 "nbformat": 4,
 "nbformat_minor": 2
}
