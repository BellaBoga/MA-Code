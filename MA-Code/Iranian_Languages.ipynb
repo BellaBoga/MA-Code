{
 "cells": [
  {
   "cell_type": "code",
   "execution_count": 2,
   "metadata": {},
   "outputs": [],
   "source": [
    "import csv\n",
    "from lingpy import *\n",
    "import itertools\n",
    "import os\n",
    "import pickle as pk\n",
    "from lingpy.settings import rcParams\n",
    "from itertools import groupby\n",
    "from asjp import ipa2asjp, asjp2ipa, tokenise\n",
    "import fileinput\n",
    "import pickle\n",
    "import re \n",
    "import numpy as np\n",
    "import pandas as pd\n",
    "import time\n",
    "import math"
   ]
  },
  {
   "cell_type": "code",
   "execution_count": 24,
   "metadata": {},
   "outputs": [],
   "source": [
    "####read in data as Dataframe to insert NA's easily\n",
    "\n",
    "\n",
    "#with open('romance_transcribed_new.csv', 'r') as csvfile:\n",
    "data_set1 = pd.read_csv('/home/bella/Dropbox/Master-Thesis/MA_Thesis_Program/Processed_Data/ASJP_iranian.csv', 'r',delimiter=',',na_filter=True,header=None,error_bad_lines=False)\n",
    "    #data_set = list(csv.reader(csvfile, delimiter=',', quotechar='|'))\n",
    "    #data = data_set(np.nan)    "
   ]
  },
  {
   "cell_type": "code",
   "execution_count": 25,
   "metadata": {},
   "outputs": [],
   "source": [
    "#data_set = data_set1.values.T.tolist() ###One way to transform to list but wrong order\n",
    "#1 list would be one column, but I would want one row as list\n",
    "\n",
    "data_set1 = data_set1.replace(np.nan, 'NaN', regex=True)"
   ]
  },
  {
   "cell_type": "code",
   "execution_count": 26,
   "metadata": {},
   "outputs": [],
   "source": [
    "#transform to list where one list would be one row\n",
    "data_set = []\n",
    "for row in data_set1.iterrows():\n",
    "    index, data = row\n",
    "    data_set.append(data.tolist())"
   ]
  },
  {
   "cell_type": "code",
   "execution_count": null,
   "metadata": {},
   "outputs": [],
   "source": [
    "data_set"
   ]
  },
  {
   "cell_type": "code",
   "execution_count": 27,
   "metadata": {},
   "outputs": [
    {
     "name": "stdout",
     "output_type": "stream",
     "text": [
      "compare p25_noma and diq_name\n"
     ]
    }
   ],
   "source": [
    "seqA = []\n",
    "seqB = []\n",
    "for i in range(len(data_set)):\n",
    "    for a,b in itertools.combinations(data_set[i],2):\n",
    "        seqA.append(a)\n",
    "        seqB.append(b)\n",
    "print('compare', a, 'and', b)\n",
    "\n",
    "\n",
    "#seqA = []\n",
    "#for i in seqA_tmp:\n",
    " #   j = i.replace(' ','')\n",
    "  #  seqA.append(j)\n",
    "\n",
    "#seqB = []\n",
    "#for i in seqB_tmp:\n",
    " #   j = i.replace(' ','')\n",
    "  #  seqB.append(j)"
   ]
  },
  {
   "cell_type": "code",
   "execution_count": null,
   "metadata": {},
   "outputs": [],
   "source": [
    "data_set"
   ]
  },
  {
   "cell_type": "code",
   "execution_count": null,
   "metadata": {},
   "outputs": [],
   "source": [
    "###Cartesian prodcut; to be perfected\n",
    "list_1 = seqA\n",
    "list_2 = seqB\n",
    "\n",
    "new_seq_A = []\n",
    "new_seq_B = []\n",
    "for i in range(len(data_set)):\n",
    "    for(a,b) in itertools.product(list_1,list_2):\n",
    "        new_seq_A.append(a)\n",
    "        new_seq_B.append(b)\n",
    "#sums = [a + b for (a, b) in itertools.product(list_1, list_2)]\n",
    "\n",
    "#sums\n",
    "#results_test, sums"
   ]
  },
  {
   "cell_type": "code",
   "execution_count": 28,
   "metadata": {},
   "outputs": [],
   "source": [
    "#Scorer for the weighted alignment\n",
    "scorer = {}\n",
    "listoflist = []\n",
    "with open(\"pmiScores.csv\", \"r\") as infile:\n",
    "    for line in infile:\n",
    "        listoflist.append(line.rstrip(\"\\n\").split(','))\n",
    "        \n",
    "\n",
    "for i in range(1,len(listoflist)):\n",
    "    for j in range(1, len(listoflist[0])):\n",
    "        scorer[(listoflist[0][i], listoflist[j][0])] = float(listoflist[i][j])\n",
    "#scorer"
   ]
  },
  {
   "cell_type": "code",
   "execution_count": 30,
   "metadata": {},
   "outputs": [
    {
     "name": "stdout",
     "output_type": "stream",
     "text": [
      "15.98719596862793\n"
     ]
    }
   ],
   "source": [
    "start = time.time()\n",
    "final_scores = []\n",
    "for i in range(len(seqA)):\n",
    "    if seqA[i] == \"NaN\" or seqB[i] == \"NaN\":\n",
    "        final_scores.append(\"NaN\")\n",
    "        print(i, seqA[i], seqB[i],final_scores[i],file=open(\"/home/bella/Dropbox/Master-Thesis/MA_Thesis_Program/Output/iranian.csv\", \"a\"))\n",
    "\n",
    "        \n",
    "    else:\n",
    "        almA, almB, sim = nw_align(seqA[i][4:], seqB[i][4:], scorer=scorer)\n",
    "        final_scores.append(sim)\n",
    "        #print(i, seqA[i], seqB[i],final_scores[i])\n",
    "\n",
    "        print(i, seqA[i], seqB[i],final_scores[i],file=open(\"/home/bella/Dropbox/Master-Thesis/MA_Thesis_Program/Output/iranian.csv\", \"a\"))\n",
    "        \n",
    "end = time.time()\n",
    "print(end - start)"
   ]
  },
  {
   "cell_type": "code",
   "execution_count": null,
   "metadata": {},
   "outputs": [],
   "source": [
    "lex = LexStat('lexstat.tsv', get_prostring=lambda x: [\"x\" for\n",
    "    y in x])"
   ]
  }
 ],
 "metadata": {
  "kernelspec": {
   "display_name": "Python 3",
   "language": "python",
   "name": "python3"
  },
  "language_info": {
   "codemirror_mode": {
    "name": "ipython",
    "version": 3
   },
   "file_extension": ".py",
   "mimetype": "text/x-python",
   "name": "python",
   "nbconvert_exporter": "python",
   "pygments_lexer": "ipython3",
   "version": "3.7.3"
  }
 },
 "nbformat": 4,
 "nbformat_minor": 2
}
