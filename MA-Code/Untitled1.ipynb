{
 "cells": [
  {
   "cell_type": "code",
   "execution_count": 71,
   "metadata": {},
   "outputs": [],
   "source": [
    "import numpy as np\n",
    "import csv\n",
    "import itertools\n",
    "from lingpy import *\n",
    "from pprint import pprint"
   ]
  },
  {
   "cell_type": "code",
   "execution_count": 97,
   "metadata": {},
   "outputs": [
    {
     "data": {
      "text/plain": [
       "[['qbb_omnis', 'qbb_kinis', 'qbb_libEr', 'qbb_wEntEr', 'qbb_wEntE'],\n",
       " ['lat_omnis', 'lat_kinis', 'lat_kinE', 'lat_vEntEr', 'lat_kinis'],\n",
       " ['ruq_tot', 'ruq_bla', 'ruq_tu', 'ruq_toa', 'ruq_omni']]"
      ]
     },
     "execution_count": 97,
     "metadata": {},
     "output_type": "execute_result"
    }
   ],
   "source": [
    "#creates list of list where one column is one list\n",
    "dataset = []\n",
    "with open('cartesian.csv') as csvfile:\n",
    "    rows = csv.reader(csvfile)\n",
    "    data = list(zip(*rows))\n",
    "    dataset = [list(a) for a in data]\n",
    "dataset"
   ]
  },
  {
   "cell_type": "code",
   "execution_count": 167,
   "metadata": {},
   "outputs": [],
   "source": [
    "spe = set(zip(dataset[0],dataset[1]))"
   ]
  },
  {
   "cell_type": "code",
   "execution_count": 168,
   "metadata": {},
   "outputs": [
    {
     "data": {
      "text/plain": [
       "{('qbb_kinis', 'lat_kinis'),\n",
       " ('qbb_libEr', 'lat_kinE'),\n",
       " ('qbb_omnis', 'lat_omnis'),\n",
       " ('qbb_wEntE', 'lat_kinis'),\n",
       " ('qbb_wEntEr', 'lat_vEntEr')}"
      ]
     },
     "execution_count": 168,
     "metadata": {},
     "output_type": "execute_result"
    }
   ],
   "source": [
    "spe"
   ]
  },
  {
   "cell_type": "code",
   "execution_count": 125,
   "metadata": {},
   "outputs": [],
   "source": [
    "for i in dataset:\n",
    "    for j in dataset:\n",
    "        spe = zip(*[dataset[x::2] for x in (0, 1)])"
   ]
  },
  {
   "cell_type": "code",
   "execution_count": null,
   "metadata": {},
   "outputs": [],
   "source": [
    "l = [i for i in list(itertools.product(*dataset)) if i not in spe]\n",
    "pprint(l)"
   ]
  },
  {
   "cell_type": "code",
   "execution_count": null,
   "metadata": {},
   "outputs": [],
   "source": [
    "seqA = []\n",
    "seqB = []\n",
    "for i in list(itertools.product(*dataset)):\n",
    "    if i not in spe:\n",
    "        "
   ]
  },
  {
   "cell_type": "code",
   "execution_count": null,
   "metadata": {},
   "outputs": [],
   "source": [
    "scorer = {}\n",
    "listoflist = []\n",
    "with open(\"pmiScores.csv\", \"r\") as infile:\n",
    "    for line in infile:\n",
    "        listoflist.append(line.rstrip(\"\\n\").split(','))\n",
    "        \n",
    "\n",
    "for i in range(1,len(listoflist)):\n",
    "    for j in range(1, len(listoflist[0])):\n",
    "        scorer[(listoflist[0][i], listoflist[j][0])] = float(listoflist[i][j])\n",
    "        #Scorer is done\n",
    "#scorer"
   ]
  },
  {
   "cell_type": "code",
   "execution_count": null,
   "metadata": {},
   "outputs": [],
   "source": [
    "final_scores = []\n",
    "for i in range(len(seqA)):\n",
    "    almA, almB,sim = nw_align(seqA[i][4:],seqB[i][4:],scorer=scorer)\n",
    "    final_scores.append(sim)\n",
    "    print(i, seqA[i], seqB[i],final_scores[i])\n",
    "\n",
    "    #print(i,seqA[i],seqB[i],final_scores[i], file=open(\"ffs.csv\", \"a\")) "
   ]
  }
 ],
 "metadata": {
  "kernelspec": {
   "display_name": "Python 3",
   "language": "python",
   "name": "python3"
  },
  "language_info": {
   "codemirror_mode": {
    "name": "ipython",
    "version": 3
   },
   "file_extension": ".py",
   "mimetype": "text/x-python",
   "name": "python",
   "nbconvert_exporter": "python",
   "pygments_lexer": "ipython3",
   "version": "3.6.5"
  }
 },
 "nbformat": 4,
 "nbformat_minor": 2
}
