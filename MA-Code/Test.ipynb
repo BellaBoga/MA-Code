{
 "cells": [
  {
   "cell_type": "code",
   "execution_count": null,
   "metadata": {},
   "outputs": [],
   "source": [
    "import csv\n",
    "from lingpy import *\n",
    "import itertools\n",
    "import os\n",
    "import pickle as pk\n",
    "from lingpy.settings import rcParams\n",
    "from itertools import groupby\n",
    "from asjp import ipa2asjp, asjp2ipa, tokenise\n",
    "import fileinput\n",
    "import pickle\n",
    "import re \n",
    "import csv\n",
    "import string"
   ]
  },
  {
   "cell_type": "code",
   "execution_count": null,
   "metadata": {},
   "outputs": [],
   "source": [
    "with open('iranian_transcribed.csv', 'r') as csvfile:\n",
    "    data_set = list(csv.reader(csvfile, delimiter=',', quotechar='|'))"
   ]
  },
  {
   "cell_type": "code",
   "execution_count": null,
   "metadata": {},
   "outputs": [],
   "source": [
    "seqA_tmp = []\n",
    "seqB_tmp = []\n",
    "for i in range(len(data_set)):\n",
    "    for a,b in itertools.combinations(data_set[i], 2):\n",
    "        seqA_tmp.append(a)\n",
    "        seqB_tmp.append(b)\n",
    "        #print('compare', a, 'and', b)\n",
    "\n",
    "seqA = []\n",
    "for i in seqA_tmp:\n",
    "    j = i.replace(' ','')\n",
    "    seqA.append(j)\n",
    "\n",
    "seqB = []\n",
    "for i in seqB_tmp:\n",
    "    j = i.replace(' ','')\n",
    "    seqB.append(j)"
   ]
  },
  {
   "cell_type": "code",
   "execution_count": null,
   "metadata": {},
   "outputs": [],
   "source": [
    "scorer = {}\n",
    "listoflist = []\n",
    "with open(\"pmiScores.csv\", \"r\") as infile:\n",
    "    for line in infile:\n",
    "        listoflist.append(line.rstrip(\"\\n\").split(','))\n",
    "        \n",
    "\n",
    "for i in range(1,len(listoflist)):\n",
    "    for j in range(1, len(listoflist[0])):\n",
    "        scorer[(listoflist[0][i], listoflist[j][0])] = float(listoflist[i][j])\n",
    "        #Scorer is done\n",
    "scorer"
   ]
  },
  {
   "cell_type": "code",
   "execution_count": null,
   "metadata": {},
   "outputs": [],
   "source": [
    "final_scores = []\n",
    "for i in range(len(seqA)):\n",
    "    if seqA[i] == \"\" or seqB[i] == \"\":\n",
    "        final_scores.append(float('nan'))            \n",
    "    else:\n",
    "        almA, almB, sim = nw_align(seqA[i][4:], seqB[i][4:], scorer=scorer)\n",
    "        #almA, almB, sim = nw_align(seqA[i], seqB[i], scorer=scorer)\n",
    "        final_scores.append(sim)\n",
    "        print(i, seqA[i], seqB[i],final_scores[i])\n",
    "        \n",
    "        if seqA[i] == \"ʼ\" or seqB[i] ==\"ʼ\":\n",
    "            final_scores.append(float('nan')) \n",
    "        if seqA[i] == \"'\" or seqB[i] == \"'\":\n",
    "            final_scores.append(float('nan'))"
   ]
  },
  {
   "cell_type": "code",
   "execution_count": null,
   "metadata": {},
   "outputs": [],
   "source": [
    "def concatenate_list_data(list):\n",
    "    result= ''\n",
    "    for element in list:\n",
    "        result += str(element)\n",
    "    return result\n",
    "whatever = concatenate_list_data(seqB)\n",
    "#print(abc)\n",
    "set(whatever)"
   ]
  },
  {
   "cell_type": "code",
   "execution_count": null,
   "metadata": {},
   "outputs": [],
   "source": [
    "def toto(message,writer):\n",
    "    message = message.lower()\n",
    "    p = re.compile('|'.join(map(re.escape, string.punctuation)))\n",
    "    no_punct = p.sub(' ', message)\n",
    "    for row in no_punct:\n",
    "        writer.writerow(row)\n",
    "\n",
    "with open('test_data.csv', 'r') as f:\n",
    "    writer = csv.writer(open('result.csv','w'))\n",
    "    file = csv.reader(f)\n",
    "    for line in file:\n",
    "        message = ''.join(line)\n",
    "        toto(message,writer)"
   ]
  },
  {
   "cell_type": "code",
   "execution_count": null,
   "metadata": {},
   "outputs": [],
   "source": [
    "    with open('eggs.csv', 'w', newline='') as csvfile:\n",
    "        spamwriter = csv.writer(csvfile, delimiter=' ',\n",
    "                                quotechar=',', quoting=csv.QUOTE_MINIMAL)\n",
    "        spamwriter.writerow(['Spam'] * 5 + ['Baked Beans'])"
   ]
  }
 ],
 "metadata": {
  "kernelspec": {
   "display_name": "Python 3",
   "language": "python",
   "name": "python3"
  },
  "language_info": {
   "codemirror_mode": {
    "name": "ipython",
    "version": 3
   },
   "file_extension": ".py",
   "mimetype": "text/x-python",
   "name": "python",
   "nbconvert_exporter": "python",
   "pygments_lexer": "ipython3",
   "version": "3.6.5"
  }
 },
 "nbformat": 4,
 "nbformat_minor": 2
}
