{
 "cells": [
  {
   "cell_type": "code",
   "execution_count": 2,
   "metadata": {},
   "outputs": [],
   "source": [
    "import csv\n",
    "from lingpy import *\n",
    "import itertools\n",
    "import os\n",
    "import pickle as pk\n",
    "from lingpy.settings import rcParams\n",
    "from itertools import groupby\n",
    "from asjp import ipa2asjp, asjp2ipa, tokenise\n",
    "import fileinput\n",
    "import pickle\n",
    "import re \n",
    "import numpy as np\n",
    "import pandas as pd\n",
    "import time\n",
    "import math"
   ]
  },
  {
   "cell_type": "code",
   "execution_count": 3,
   "metadata": {},
   "outputs": [],
   "source": [
    "#with open('romance_transcribed_new.csv', 'r') as csvfile:\n",
    "    data_set1 = pd.read_csv('ASJP_iranian.csv', 'r',delimiter=',',na_filter=True,error_bad_lines=False,header=None,encoding=\"utf8\")\n",
    "    #data_set = list(csv.reader(csvfile, delimiter=',', quotechar='|'))\n",
    "    #data = data_set(np.nan"
   ]
  },
  {
   "cell_type": "code",
   "execution_count": 4,
   "metadata": {},
   "outputs": [
    {
     "data": {
      "text/plain": [
       "pandas.core.frame.DataFrame"
      ]
     },
     "execution_count": 4,
     "metadata": {},
     "output_type": "execute_result"
    }
   ],
   "source": [
    "type(data_set1)"
   ]
  },
  {
   "cell_type": "code",
   "execution_count": 84,
   "metadata": {},
   "outputs": [],
   "source": [
    "data_set1 = data_set1.replace(np.nan, 'NaN', regex=True)"
   ]
  },
  {
   "cell_type": "code",
   "execution_count": 85,
   "metadata": {},
   "outputs": [],
   "source": [
    "data_set = []\n",
    "for row in data_set1.iterrows():\n",
    "    index, data = row\n",
    "    data_set.append(data.tolist())"
   ]
  },
  {
   "cell_type": "code",
   "execution_count": null,
   "metadata": {},
   "outputs": [],
   "source": [
    "data_set"
   ]
  },
  {
   "cell_type": "code",
   "execution_count": null,
   "metadata": {},
   "outputs": [],
   "source": [
    "data_set[109][57]"
   ]
  },
  {
   "cell_type": "code",
   "execution_count": null,
   "metadata": {},
   "outputs": [],
   "source": [
    "[str(i) for i in data_set]"
   ]
  },
  {
   "cell_type": "code",
   "execution_count": 86,
   "metadata": {},
   "outputs": [],
   "source": [
    "seqA = []\n",
    "seqB = []\n",
    "for i in range(len(data_set)):\n",
    "    for a,b in itertools.combinations(data_set[i],2):\n",
    "        seqA.append(a)\n",
    "        seqB.append(b)\n",
    "        #print('compare', a, 'and', b)\n",
    "\n",
    "\n",
    "#seqA = []\n",
    "#for i in seqA_tmp:\n",
    " #   j = i.replace(' ','')\n",
    "  #  seqA.append(j)\n",
    "\n",
    "#seqB = []\n",
    "#for i in seqB_tmp:\n",
    " #   j = i.replace(' ','')\n",
    "  #  seqB.append(j)"
   ]
  },
  {
   "cell_type": "code",
   "execution_count": null,
   "metadata": {},
   "outputs": [],
   "source": [
    "data_set"
   ]
  },
  {
   "cell_type": "code",
   "execution_count": 87,
   "metadata": {},
   "outputs": [],
   "source": [
    "scorer = {}\n",
    "listoflist = []\n",
    "with open(\"pmiScores.csv\", \"r\") as infile:\n",
    "    for line in infile:\n",
    "        listoflist.append(line.rstrip(\"\\n\").split(','))\n",
    "        \n",
    "\n",
    "for i in range(1,len(listoflist)):\n",
    "    for j in range(1, len(listoflist[0])):\n",
    "        scorer[(listoflist[0][i], listoflist[j][0])] = float(listoflist[i][j])\n",
    "        #Scorer is done\n",
    "#scorer"
   ]
  },
  {
   "cell_type": "code",
   "execution_count": 88,
   "metadata": {},
   "outputs": [
    {
     "name": "stdout",
     "output_type": "stream",
     "text": [
      "7.680776357650757\n"
     ]
    }
   ],
   "source": [
    "start = time.time()\n",
    "final_scores = []\n",
    "for i in range(len(seqA)):\n",
    "    if seqA[i] == \"NaN\" or seqB[i]  == \"NaN\":\n",
    "        final_scores.append(\"NaN\")\n",
    "        print(i, seqA[i], seqB[i],final_scores[i],file=open(\"schrott.csv\", \"a\"))\n",
    "\n",
    "        \n",
    "    else:\n",
    "        almA, almB,sim = nw_align(seqA[i][4:],seqB[i][4:],scorer=scorer)\n",
    "        final_scores.append(sim)\n",
    "        #print(i, seqA[i], seqB[i],final_scores[i])\n",
    "\n",
    "        print(i,seqA[i],seqB[i],final_scores[i],file=open(\"scores_nw_germanic.csv\", \"a\"))\n",
    "        \n",
    "end = time.time()\n",
    "print(end - start)"
   ]
  },
  {
   "cell_type": "code",
   "execution_count": 45,
   "metadata": {},
   "outputs": [
    {
     "name": "stdout",
     "output_type": "stream",
     "text": [
      "6.816695928573608\n"
     ]
    }
   ],
   "source": [
    "start = time.time()\n",
    "final_scores = []\n",
    "for i in range(len(seqA)):\n",
    "    sim = edit_dist(seqA[i][4:], seqB[i][4:])\n",
    "    final_scores.append(sim)\n",
    "        #print(i, seqA[i], seqB[i],final_scores[i])\n",
    "\n",
    "    print(i,seqA[i],seqB[i],final_scores[i],file=open(\"lev_germanic.csv\", \"a\"))\n",
    "        \n",
    "end = time.time()\n",
    "print(end - start)"
   ]
  },
  {
   "cell_type": "code",
   "execution_count": null,
   "metadata": {},
   "outputs": [],
   "source": [
    "almA, almB, sim = nw_align(\"knoXTE\",\"knoX3n\",gap=-15,scorer=scorer)"
   ]
  },
  {
   "cell_type": "code",
   "execution_count": null,
   "metadata": {},
   "outputs": [],
   "source": [
    "sim/len(almA)"
   ]
  },
  {
   "cell_type": "code",
   "execution_count": null,
   "metadata": {},
   "outputs": [],
   "source": [
    "almA+almB"
   ]
  },
  {
   "cell_type": "code",
   "execution_count": null,
   "metadata": {},
   "outputs": [],
   "source": [
    "for item in data:\n",
    "    print (type(item),item,file=open(\"type.csv\", \"a\"))"
   ]
  },
  {
   "cell_type": "code",
   "execution_count": null,
   "metadata": {},
   "outputs": [],
   "source": [
    "##directly computing pmi distance here\n",
    "##transform similarity value into distance value\n",
    "wrd_score = 1.0-((2.0*nw_align(word_list1[0],word_list2[0]))/(nw(word_list1[0],word_list1[0])+nw(word_list2[0],word_list2[0])))"
   ]
  },
  {
   "cell_type": "code",
   "execution_count": null,
   "metadata": {},
   "outputs": [],
   "source": [
    "#sigmoid function zur Berechnung der Distanz\n",
    "#Vorteil Sigmoid ist eine S-Kurve. Alle Werte unter 0.5 signalisieren eine negative Aehnlichkeit (-> nicht aehnlich), all Werte ueber 0.5 \n",
    "# signalisieren eine positive Aehnlichkeit (-> aehnlich). Dadurch kann der threshold fuer andere funktionen (lingpy) immer 0.5 sein.\n",
    "wrd_score = 1.0 - (1.0/(1 + exp(-nw(word_pair[0],word_pair[1]))))"
   ]
  }
 ],
 "metadata": {
  "kernelspec": {
   "display_name": "Python 3",
   "language": "python",
   "name": "python3"
  },
  "language_info": {
   "codemirror_mode": {
    "name": "ipython",
    "version": 3
   },
   "file_extension": ".py",
   "mimetype": "text/x-python",
   "name": "python",
   "nbconvert_exporter": "python",
   "pygments_lexer": "ipython3",
   "version": "3.6.5"
  }
 },
 "nbformat": 4,
 "nbformat_minor": 2
}
