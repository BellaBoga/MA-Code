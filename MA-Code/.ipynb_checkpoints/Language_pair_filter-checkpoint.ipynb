{
 "cells": [
  {
   "cell_type": "code",
   "execution_count": 2,
   "metadata": {},
   "outputs": [],
   "source": [
    "import pandas as pd\n",
    "import csv\n",
    "import re   \n",
    "import time\n",
    "import dask.dataframe as dd"
   ]
  },
  {
   "cell_type": "code",
   "execution_count": null,
   "metadata": {},
   "outputs": [],
   "source": [
    "df = pd.read_csv('/home/bella/Dropbox/Master-Thesis/MA_Thesis_Program/final_lev_off_diag.csv',header=0)\n",
    "df"
   ]
  },
  {
   "cell_type": "code",
   "execution_count": null,
   "metadata": {},
   "outputs": [],
   "source": [
    "df = pd.DataFrame(df, columns = ['L1', 'L2','Score'])\n",
    "df"
   ]
  },
  {
   "cell_type": "code",
   "execution_count": 4,
   "metadata": {},
   "outputs": [],
   "source": [
    "#Romance Iso codes\n",
    "langs2 = [\"qbb\", \"lat\", \"ruq\",\"ruo\",\"rup\",\"ron\",\"dlm\",\"fur\",\"ll1\",\"ll2\",\"ro1\",\"ro2\",\"ro3\",\"ro4\",\"pm1\",\"pm2\", \"pm3\", \n",
    "\"pm4\",\"pm5\",\"lm1\",\"lm2\",\"eg1\",\"eg2\",\"eg3\",'eg4','li1','li2','li3','ve1','ve2','ve3','ito',\n",
    "'ita','itg','itf','nea','src','sro','sc1','sc2','sc3','sc4','ca1','ca2','ca3','ca4','ca5',\n",
    "'ca6','spa','ast','por','glg','pr1','pr2','fro','fra','pcd','win']"
   ]
  },
  {
   "cell_type": "code",
   "execution_count": 5,
   "metadata": {},
   "outputs": [],
   "source": [
    "#Romance Iso codes\n",
    "langs1 = [\"qbb\", \"lat\", \"ruq\",\"ruo\",\"rup\",\"ron\",\"dlm\",\"fur\",\"ll1\",\"ll2\",\"ro1\",\"ro2\",\"ro3\",\"ro4\",\"pm1\",\"pm2\", \"pm3\", \n",
    "\"pm4\",\"pm5\",\"lm1\",\"lm2\",\"eg1\",\"eg2\",\"eg3\",'eg4','li1','li2','li3','ve1','ve2','ve3','ito',\n",
    "'ita','itg','itf','nea','src','sro','sc1','sc2','sc3','sc4','ca1','ca2','ca3','ca4','ca5',\n",
    "'ca6','spa','ast','por','glg','pr1','pr2','fro','fra','pcd','win']"
   ]
  },
  {
   "cell_type": "code",
   "execution_count": 17,
   "metadata": {},
   "outputs": [],
   "source": [
    "#Iranian Iso codes\n",
    "langs3 = [\"av1\", \"av2\", \"pb1\",\"pb2\" ,\"bql\",\"bgp\",\"bgn\",\"ps1\", \"pb3\", \"pb4\", \"wb1\", \"pt1\" ,\"wb2\" ,\"pb5\" ,\"pb6\" , \"os1\",\n",
    "\"pb7\", \"prs\", \"gzi\", \"glk\", \"hac\", \"pb8\", \"os2\", \"wb3\", \"pb9\" ,\"p10\", \"jdt\", \"pt2\", \"ps2\", \"kiu\" ,\"zum\" ,\"ckb\", \"kmr\", \"ps3\", \"lrl\" \n",
    ",\"lsa\", \"luz\", \"p11\", \"p12\", \"p13\", \"kfm\", \"p14\", \"ps4\", \"p15\", \"mnj\" ,\"ntz\", \n",
    "\"p16\", \"p17\", \"p18\", \"oru\", \"prc\", \"p19\", \"pt3\" ,\"pes\", \"p20\" ,\n",
    "\"pt4\", \"pt5\", \"srz\" , \"p21\", \"sgh\", \"siy\", \"sqo\", \"bcc\" ,\"sdh\" ,\"fay\" ,\"p22\", \"tgk\" ,\"tly\" ,\"p23\" ,\"p24\",\n",
    "\"vaf\", \"ps5\" ,\"wne\" ,\"yai\" ,\"wb5\", \"yah\" ,\"ydg\", \"p25\", \"diq\"]"
   ]
  },
  {
   "cell_type": "code",
   "execution_count": 23,
   "metadata": {},
   "outputs": [],
   "source": [
    "#celtic iso-codes\n",
    "langs1 = [\"bre\",\"cor\",\"gla\",\"gle\",\"glv\",\"sga\",\"pcl\",\"cym\"]"
   ]
  },
  {
   "cell_type": "code",
   "execution_count": null,
   "metadata": {},
   "outputs": [],
   "source": [
    "start = time.time()\n",
    "for i in range(len(langs1)):\n",
    "    for j in range(len(langs2)):\n",
    "        new_dataframe=df[df[\"L1\"].str.match(langs1[i]) & df[\"L2\"].str.match(langs2[j])]\n",
    "                   #| df['L2'].str.match(langs1[i]) & df['L1'].str.match(langs1[j])]\n",
    "        mean_value = new_dataframe[[\"New_Score\"]].mean()\n",
    "        #new_dataframe.to_csv(\"/home/bella/Dropbox/Master-Thesis/MA_Thesis_Program/Filtered_Data_Romance/Mean_Values_Off_Diagonal/Test/\"+langs1[i]+\"_\"+langs1[j]+\".csv\")\n",
    "        mean_value.to_csv(\"/home/bella/Dropbox/Master-Thesis/MA_Thesis_Program/Filtered_Data_Romance/Mean_Values_Off_Diagonal_Levenshtein/\"+langs1[i]+\"_\"+langs2[j]+\".csv\")\n",
    "        print(langs1[i],langs2[j])\n",
    "end = time.time()\n",
    "print(end - start)"
   ]
  },
  {
   "cell_type": "code",
   "execution_count": null,
   "metadata": {},
   "outputs": [],
   "source": [
    "print(\"mean:\", mean_value, \"and\", \"median:\" ,new_dataframe[[\"Score\"]].median())"
   ]
  },
  {
   "cell_type": "code",
   "execution_count": null,
   "metadata": {},
   "outputs": [],
   "source": [
    "new_dataframe"
   ]
  },
  {
   "cell_type": "code",
   "execution_count": null,
   "metadata": {},
   "outputs": [],
   "source": [
    "new_dataframe[[\"Score\"]].median()"
   ]
  },
  {
   "cell_type": "code",
   "execution_count": null,
   "metadata": {},
   "outputs": [],
   "source": [
    "test_dataframe=df[df['L1'].str.match(\"ckb_\") & df['L2'].str.match(\"av1_\")|\n",
    "                df['L2'].str.match(\"ckb_\") & df['L1'].str.match(\"av1_\")]\n",
    "test_mean = test_dataframe[['Score']].mean()"
   ]
  },
  {
   "cell_type": "code",
   "execution_count": null,
   "metadata": {},
   "outputs": [],
   "source": [
    "test_mean"
   ]
  }
 ],
 "metadata": {
  "kernelspec": {
   "display_name": "Python 3",
   "language": "python",
   "name": "python3"
  },
  "language_info": {
   "codemirror_mode": {
    "name": "ipython",
    "version": 3
   },
   "file_extension": ".py",
   "mimetype": "text/x-python",
   "name": "python",
   "nbconvert_exporter": "python",
   "pygments_lexer": "ipython3",
   "version": "3.7.3"
  }
 },
 "nbformat": 4,
 "nbformat_minor": 2
}
