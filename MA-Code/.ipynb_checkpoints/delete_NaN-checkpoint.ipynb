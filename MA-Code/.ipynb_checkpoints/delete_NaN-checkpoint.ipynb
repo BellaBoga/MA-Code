{
 "cells": [
  {
   "cell_type": "code",
   "execution_count": 4,
   "metadata": {},
   "outputs": [],
   "source": [
    "with open('/home/bella/Dropbox/Master-Thesis/MA_Thesis_Program/lev_germanic.csv') as oldfile, open('germanic_not_nan.csv', 'w') as newfile:\n",
    "    for line in oldfile :\n",
    "        if 'NaN' not in line:\n",
    "            newfile.write(line)"
   ]
  }
 ],
 "metadata": {
  "kernelspec": {
   "display_name": "Python 3",
   "language": "python",
   "name": "python3"
  },
  "language_info": {
   "codemirror_mode": {
    "name": "ipython",
    "version": 3
   },
   "file_extension": ".py",
   "mimetype": "text/x-python",
   "name": "python",
   "nbconvert_exporter": "python",
   "pygments_lexer": "ipython3",
   "version": "3.6.5"
  }
 },
 "nbformat": 4,
 "nbformat_minor": 2
}
