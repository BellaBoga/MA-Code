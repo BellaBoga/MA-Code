{
 "cells": [
  {
   "cell_type": "code",
   "execution_count": 2,
   "metadata": {},
   "outputs": [],
   "source": [
    "import csv\n",
    "from lingpy import *\n",
    "import itertools\n",
    "import os\n",
    "import pickle as pk\n",
    "from lingpy.settings import rcParams\n",
    "from itertools import groupby\n",
    "from asjp import ipa2asjp, asjp2ipa, tokenise\n",
    "import fileinput\n",
    "import pickle\n",
    "import re \n",
    "import numpy as np\n",
    "import pandas as pd\n",
    "import time\n",
    "import math"
   ]
  },
  {
   "cell_type": "code",
   "execution_count": 4,
   "metadata": {},
   "outputs": [],
   "source": [
    "#with open('romance_transcribed_new.csv', 'r') as csvfile:\n",
    "    data_set1 = pd.read_csv(\"test_qbb.csv\", 'r',delimiter=',',na_filter=True,header=None)\n",
    "    #data_set = list(csv.reader(csvfile, delimiter=',', quotechar='|'))\n",
    "    #data = data_set(np.nan)"
   ]
  },
  {
   "cell_type": "code",
   "execution_count": 5,
   "metadata": {},
   "outputs": [],
   "source": [
    "#data_set = data_set1.values.T.tolist()\n",
    "\n",
    "data_set1 = data_set1.replace(np.nan, 'NaN', regex=True)"
   ]
  },
  {
   "cell_type": "code",
   "execution_count": 6,
   "metadata": {},
   "outputs": [],
   "source": [
    "data_set = []\n",
    "for row in data_set1.iterrows():\n",
    "    index, data = row\n",
    "    data_set.append(data.tolist())"
   ]
  },
  {
   "cell_type": "code",
   "execution_count": null,
   "metadata": {},
   "outputs": [],
   "source": [
    "data_set"
   ]
  },
  {
   "cell_type": "code",
   "execution_count": 8,
   "metadata": {},
   "outputs": [
    {
     "ename": "NameError",
     "evalue": "name 'a' is not defined",
     "output_type": "error",
     "traceback": [
      "\u001b[0;31m---------------------------------------------------------------------------\u001b[0m",
      "\u001b[0;31mNameError\u001b[0m                                 Traceback (most recent call last)",
      "\u001b[0;32m<ipython-input-8-f58e8bf36b18>\u001b[0m in \u001b[0;36m<module>\u001b[0;34m\u001b[0m\n\u001b[1;32m      5\u001b[0m         \u001b[0mseqA\u001b[0m\u001b[0;34m.\u001b[0m\u001b[0mappend\u001b[0m\u001b[0;34m(\u001b[0m\u001b[0ma\u001b[0m\u001b[0;34m)\u001b[0m\u001b[0;34m\u001b[0m\u001b[0m\n\u001b[1;32m      6\u001b[0m         \u001b[0mseqB\u001b[0m\u001b[0;34m.\u001b[0m\u001b[0mappend\u001b[0m\u001b[0;34m(\u001b[0m\u001b[0mb\u001b[0m\u001b[0;34m)\u001b[0m\u001b[0;34m\u001b[0m\u001b[0m\n\u001b[0;32m----> 7\u001b[0;31m \u001b[0mprint\u001b[0m\u001b[0;34m(\u001b[0m\u001b[0;34m'compare'\u001b[0m\u001b[0;34m,\u001b[0m \u001b[0ma\u001b[0m\u001b[0;34m,\u001b[0m \u001b[0;34m'and'\u001b[0m\u001b[0;34m,\u001b[0m \u001b[0mb\u001b[0m\u001b[0;34m)\u001b[0m\u001b[0;34m\u001b[0m\u001b[0m\n\u001b[0m",
      "\u001b[0;31mNameError\u001b[0m: name 'a' is not defined"
     ]
    }
   ],
   "source": [
    "seqA = []\n",
    "seqB = []\n",
    "for i in range(len(data_set)):\n",
    "    for a,b in itertools.combinations(data_set[i],2):\n",
    "        seqA.append(a)\n",
    "        seqB.append(b)\n",
    "print('compare', a, 'and', b)"
   ]
  },
  {
   "cell_type": "code",
   "execution_count": 9,
   "metadata": {},
   "outputs": [],
   "source": [
    "scorer = {}\n",
    "listoflist = []\n",
    "with open(\"pmiScores.csv\", \"r\") as infile:\n",
    "    for line in infile:\n",
    "        listoflist.append(line.rstrip(\"\\n\").split(','))\n",
    "        \n",
    "\n",
    "for i in range(1,len(listoflist)):\n",
    "    for j in range(1, len(listoflist[0])):\n",
    "        scorer[(listoflist[0][i], listoflist[j][0])] = float(listoflist[i][j])\n",
    "        #Scorer is done\n",
    "#scorer"
   ]
  },
  {
   "cell_type": "code",
   "execution_count": 10,
   "metadata": {},
   "outputs": [
    {
     "name": "stdout",
     "output_type": "stream",
     "text": [
      "0.0005533695220947266\n"
     ]
    }
   ],
   "source": [
    "start = time.time()\n",
    "final_scores = []\n",
    "for i in range(len(seqA)):\n",
    "    if seqA[i][4:] == \"NaN\" or seqB[i][4:] == \"NaN\":\n",
    "        final_scores.append(\"NaN\")\n",
    "        print(i, seqA[i], seqB[i],final_scores[i],file=open(\"final_results_romance_lvst.csv\", \"a\"))\n",
    "\n",
    "        \n",
    "    else:\n",
    "        sim = edit_dist(seqA, seqB)\n",
    "        final_scores.append(sim)\n",
    "        #print(i, seqA[i], seqB[i],final_scores[i])\n",
    "\n",
    "        print(i, seqA[i], seqB[i],final_scores[i],file=open(\"final_results_romance_lvst.csv\", \"a\"))\n",
    "        \n",
    "end = time.time()\n",
    "print(end - start)"
   ]
  },
  {
   "cell_type": "code",
   "execution_count": 11,
   "metadata": {},
   "outputs": [
    {
     "data": {
      "text/plain": [
       "0"
      ]
     },
     "execution_count": 11,
     "metadata": {},
     "output_type": "execute_result"
    }
   ],
   "source": [
    "edit_dist(seqA, seqB)"
   ]
  }
 ],
 "metadata": {
  "kernelspec": {
   "display_name": "Python 3",
   "language": "python",
   "name": "python3"
  },
  "language_info": {
   "codemirror_mode": {
    "name": "ipython",
    "version": 3
   },
   "file_extension": ".py",
   "mimetype": "text/x-python",
   "name": "python",
   "nbconvert_exporter": "python",
   "pygments_lexer": "ipython3",
   "version": "3.6.5"
  }
 },
 "nbformat": 4,
 "nbformat_minor": 2
}
