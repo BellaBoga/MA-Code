{
 "cells": [
  {
   "cell_type": "code",
   "execution_count": null,
   "metadata": {},
   "outputs": [],
   "source": [
    "import csv\n",
    "from lingpy import *\n",
    "import itertools\n",
    "import os\n",
    "import pickle as pk\n",
    "from lingpy.settings import rcParams\n",
    "from itertools import groupby\n",
    "from asjp import ipa2asjp, asjp2ipa, tokenise\n",
    "import fileinput\n",
    "import pickle\n",
    "import re \n",
    "import numpy as np\n",
    "import pandas as pd\n",
    "import time\n",
    "import math"
   ]
  },
  {
   "cell_type": "code",
   "execution_count": 63,
   "metadata": {},
   "outputs": [],
   "source": [
    "#with open('romance_transcribed_new.csv', 'r') as csvfile:\n",
    "    data_set1 = pd.read_table('cartesian.csv', 'r',delimiter=',',na_filter=True,error_bad_lines=False,header=None,encoding=\"utf8\")\n",
    "    #data_set = list(csv.reader(csvfile, delimiter=',', quotechar='|'))\n",
    "    #data = data_set(np.nan)"
   ]
  },
  {
   "cell_type": "code",
   "execution_count": 64,
   "metadata": {},
   "outputs": [
    {
     "data": {
      "text/html": [
       "<div>\n",
       "<style scoped>\n",
       "    .dataframe tbody tr th:only-of-type {\n",
       "        vertical-align: middle;\n",
       "    }\n",
       "\n",
       "    .dataframe tbody tr th {\n",
       "        vertical-align: top;\n",
       "    }\n",
       "\n",
       "    .dataframe thead th {\n",
       "        text-align: right;\n",
       "    }\n",
       "</style>\n",
       "<table border=\"1\" class=\"dataframe\">\n",
       "  <thead>\n",
       "    <tr style=\"text-align: right;\">\n",
       "      <th></th>\n",
       "      <th>0</th>\n",
       "      <th>1</th>\n",
       "      <th>2</th>\n",
       "    </tr>\n",
       "  </thead>\n",
       "  <tbody>\n",
       "    <tr>\n",
       "      <th>0</th>\n",
       "      <td>qbb_omnis</td>\n",
       "      <td>lat_omnis</td>\n",
       "      <td>ruq_tot</td>\n",
       "    </tr>\n",
       "    <tr>\n",
       "      <th>1</th>\n",
       "      <td>qbb_kinis</td>\n",
       "      <td>lat_kinis</td>\n",
       "      <td>ruq_foEli</td>\n",
       "    </tr>\n",
       "    <tr>\n",
       "      <th>2</th>\n",
       "      <td>qbb_libEr</td>\n",
       "      <td>lat_kinE</td>\n",
       "      <td>ruq_kinE</td>\n",
       "    </tr>\n",
       "    <tr>\n",
       "      <th>3</th>\n",
       "      <td>qbb_wEntEr</td>\n",
       "      <td>lat_vEntEr</td>\n",
       "      <td>ruq_foEli</td>\n",
       "    </tr>\n",
       "  </tbody>\n",
       "</table>\n",
       "</div>"
      ],
      "text/plain": [
       "            0           1          2\n",
       "0   qbb_omnis   lat_omnis    ruq_tot\n",
       "1   qbb_kinis   lat_kinis  ruq_foEli\n",
       "2   qbb_libEr    lat_kinE   ruq_kinE\n",
       "3  qbb_wEntEr  lat_vEntEr  ruq_foEli"
      ]
     },
     "execution_count": 64,
     "metadata": {},
     "output_type": "execute_result"
    }
   ],
   "source": [
    "data_set1"
   ]
  },
  {
   "cell_type": "code",
   "execution_count": 65,
   "metadata": {},
   "outputs": [],
   "source": [
    "#data_set = data_set1.values.T.tolist()\n",
    "\n",
    "data_set1 = data_set1.replace(np.nan, 'NaN', regex=True)"
   ]
  },
  {
   "cell_type": "code",
   "execution_count": 66,
   "metadata": {},
   "outputs": [],
   "source": [
    "data_set = []\n",
    "for row in data_set1.iterrows():\n",
    "    index, data = row\n",
    "    data_set.append(data.tolist())"
   ]
  },
  {
   "cell_type": "code",
   "execution_count": 67,
   "metadata": {},
   "outputs": [
    {
     "data": {
      "text/plain": [
       "0    0\n",
       "1    0\n",
       "2    0\n",
       "dtype: int64"
      ]
     },
     "execution_count": 67,
     "metadata": {},
     "output_type": "execute_result"
    }
   ],
   "source": [
    "data_set1.isna().sum()"
   ]
  },
  {
   "cell_type": "code",
   "execution_count": 81,
   "metadata": {},
   "outputs": [
    {
     "ename": "SyntaxError",
     "evalue": "invalid syntax (<ipython-input-81-74075f369f8e>, line 9)",
     "output_type": "error",
     "traceback": [
      "\u001b[0;36m  File \u001b[0;32m\"<ipython-input-81-74075f369f8e>\"\u001b[0;36m, line \u001b[0;32m9\u001b[0m\n\u001b[0;31m    i++\u001b[0m\n\u001b[0m       ^\u001b[0m\n\u001b[0;31mSyntaxError\u001b[0m\u001b[0;31m:\u001b[0m invalid syntax\n"
     ]
    }
   ],
   "source": [
    "raw_data = {'name': ['Willard Morris', 'Al Jennings', 'Omar Mullins', 'Spencer McDaniel'],\n",
    "\t\t        'age': [20, 19, 22, 21],\n",
    "\t\t        'favorite_color': ['blue', 'red', 'yellow', \"green\"],\n",
    "\t\t        'grade': [88, 92, 95, 70]}\n",
    "df = pd.DataFrame(raw_data, columns = ['name', 'age', 'favorite_color', 'grade'])\n",
    "df\n",
    "for i, row in data_set1.iterrows():\n",
    "    print(nw_align(row[i],row[i]))\n",
    "    "
   ]
  },
  {
   "cell_type": "code",
   "execution_count": 70,
   "metadata": {},
   "outputs": [
    {
     "data": {
      "text/plain": [
       "[\"['qbb_omnis', 'lat_omnis', 'ruq_tot']\",\n",
       " \"['qbb_kinis', 'lat_kinis', 'ruq_foEli']\",\n",
       " \"['qbb_libEr', 'lat_kinE', 'ruq_kinE']\",\n",
       " \"['qbb_wEntEr', 'lat_vEntEr', 'ruq_foEli']\"]"
      ]
     },
     "execution_count": 70,
     "metadata": {},
     "output_type": "execute_result"
    }
   ],
   "source": [
    "[str(i) for i in data_set]"
   ]
  },
  {
   "cell_type": "code",
   "execution_count": null,
   "metadata": {},
   "outputs": [],
   "source": [
    "list_1 = data_set1[0]\n",
    "list_2 = data_set1[1]\n",
    "# using list comprehensions\n",
    "\n",
    "for a,b in itertools.permutations(list_1,2):\n",
    "    for i in list_1:\n",
    "        print(nw_align(a,b))\n",
    "        #print(\"This is a:\",a) \n",
    "        #print(\"This is b:\",b)\n",
    "\n",
    "#sums = [a + b for (a, b) in itertools.product(list_1, list_2)] \n",
    "#print(sums)"
   ]
  },
  {
   "cell_type": "code",
   "execution_count": null,
   "metadata": {},
   "outputs": [],
   "source": [
    "seqA = []\n",
    "seqB = []\n",
    "for i in range(len(data_set1)):\n",
    "    for a,b in itertools.combinations(data_set1[i],2):\n",
    "        seqA.append(a)\n",
    "        seqB.append(b)\n",
    "        #print('compare', a, 'and', b)\n",
    "        print(nw_align(seqA[i][4:],seqB[i][4:],scorer=scorer))\n",
    "\n",
    "#seqA = []\n",
    "#for i in seqA_tmp:\n",
    " #   j = i.replace(' ','')\n",
    "  #  seqA.append(j)\n",
    "\n",
    "#seqB = []\n",
    "#for i in seqB_tmp:\n",
    " #   j = i.replace(' ','')\n",
    "  #  seqB.append(j)"
   ]
  },
  {
   "cell_type": "code",
   "execution_count": null,
   "metadata": {},
   "outputs": [],
   "source": [
    "data_set"
   ]
  },
  {
   "cell_type": "code",
   "execution_count": null,
   "metadata": {},
   "outputs": [],
   "source": [
    "scorer = {}\n",
    "listoflist = []\n",
    "with open(\"pmiScores.csv\", \"r\") as infile:\n",
    "    for line in infile:\n",
    "        listoflist.append(line.rstrip(\"\\n\").split(','))\n",
    "        \n",
    "\n",
    "for i in range(1,len(listoflist)):\n",
    "    for j in range(1, len(listoflist[0])):\n",
    "        scorer[(listoflist[0][i], listoflist[j][0])] = float(listoflist[i][j])\n",
    "        #Scorer is done\n",
    "#scorer"
   ]
  },
  {
   "cell_type": "code",
   "execution_count": null,
   "metadata": {},
   "outputs": [],
   "source": [
    "start = time.time()\n",
    "final_scores = []\n",
    "for i in range(len(seqA)):\n",
    "    if seqA[i][4:] == \"NaN\" or seqB[i][4:]  == \"NaN\":\n",
    "        final_scores.append(\"NaN\")\n",
    "        print(i, seqA[i], seqB[i],final_scores[i],file=open(\"schrott.csv\", \"a\"))\n",
    "\n",
    "        \n",
    "    else:\n",
    "        almA, almB,sim = nw_align(seqA[i][4:],seqB[i][4:],gap=16)\n",
    "        final_scores.append(sim)\n",
    "        #print(i, seqA[i], seqB[i],final_scores[i])\n",
    "\n",
    "        print(i,seqA[i],seqB[i],final_scores[i],file=open(\"scores_nw_romance_new_positive_gap.csv\", \"a\"))\n",
    "        \n",
    "end = time.time()\n",
    "print(end - start)"
   ]
  },
  {
   "cell_type": "code",
   "execution_count": null,
   "metadata": {},
   "outputs": [],
   "source": [
    "start = time.time()\n",
    "final_scores = []\n",
    "for i in range(len(seqA)):\n",
    "    sim = edit_dist(seqA[i], seqB[i])\n",
    "    final_scores.append(sim)\n",
    "        #print(i, seqA[i], seqB[i],final_scores[i])\n",
    "\n",
    "    print(i,seqA[i],seqB[i],final_scores[i],file=open(\"ipa_test_leveshtein\", \"a\"))\n",
    "        \n",
    "end = time.time()\n",
    "print(end - start)"
   ]
  },
  {
   "cell_type": "code",
   "execution_count": null,
   "metadata": {},
   "outputs": [],
   "source": [
    "almA, almB, sim = nw_align(\"knoXTE\",\"knoX3n\",gap=-15,scorer=scorer)"
   ]
  },
  {
   "cell_type": "code",
   "execution_count": null,
   "metadata": {},
   "outputs": [],
   "source": [
    "sim/len(almA)"
   ]
  },
  {
   "cell_type": "code",
   "execution_count": null,
   "metadata": {},
   "outputs": [],
   "source": [
    "almA+almB"
   ]
  },
  {
   "cell_type": "code",
   "execution_count": null,
   "metadata": {},
   "outputs": [],
   "source": [
    "for item in data:\n",
    "    print (type(item),item,file=open(\"type.csv\", \"a\"))"
   ]
  },
  {
   "cell_type": "code",
   "execution_count": null,
   "metadata": {},
   "outputs": [],
   "source": [
    "edit_dist(\"froma\",\"forma\")"
   ]
  }
 ],
 "metadata": {
  "kernelspec": {
   "display_name": "Python 3",
   "language": "python",
   "name": "python3"
  },
  "language_info": {
   "codemirror_mode": {
    "name": "ipython",
    "version": 3
   },
   "file_extension": ".py",
   "mimetype": "text/x-python",
   "name": "python",
   "nbconvert_exporter": "python",
   "pygments_lexer": "ipython3",
   "version": "3.6.5"
  }
 },
 "nbformat": 4,
 "nbformat_minor": 2
}
